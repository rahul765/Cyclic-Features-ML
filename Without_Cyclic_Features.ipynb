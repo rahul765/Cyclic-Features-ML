{
 "cells": [
  {
   "cell_type": "code",
   "execution_count": 1,
   "metadata": {},
   "outputs": [],
   "source": [
    "from sklearn.preprocessing import StandardScaler\n",
    "from sklearn.neural_network import MLPRegressor\n",
    "from sklearn.pipeline import Pipeline\n",
    "from sklearn.model_selection import KFold, cross_val_score\n",
    "\n",
    "import pandas as pd\n",
    "import numpy as np\n",
    "import matplotlib.pyplot as plt"
   ]
  },
  {
   "cell_type": "markdown",
   "metadata": {},
   "source": [
    "#### Dowloading data files"
   ]
  },
  {
   "cell_type": "markdown",
   "metadata": {},
   "source": [
    "!curl -O 'https://archive.ics.uci.edu/ml/machine-learning-databases/00275/Bike-Sharing-Dataset.zip'\n",
    "!mkdir 'data/'\n",
    "!unzip 'Bike-Sharing-Dataset.zip' -d 'data/bike_sharing'"
   ]
  },
  {
   "cell_type": "code",
   "execution_count": 2,
   "metadata": {},
   "outputs": [
    {
     "data": {
      "text/plain": [
       "array(['instant', 'dteday', 'season', 'yr', 'mnth', 'hr', 'holiday',\n",
       "       'weekday', 'workingday', 'weathersit', 'temp', 'atemp', 'hum',\n",
       "       'windspeed', 'casual', 'registered', 'cnt'], dtype=object)"
      ]
     },
     "execution_count": 2,
     "metadata": {},
     "output_type": "execute_result"
    }
   ],
   "source": [
    "df = pd.read_csv('data/bike_sharing/hour.csv')\n",
    "df.columns.values"
   ]
  },
  {
   "cell_type": "code",
   "execution_count": 3,
   "metadata": {},
   "outputs": [],
   "source": [
    "df['hr_sin'] = np.sin(df.hr*(2.*np.pi/24))\n",
    "df['hr_cos'] = np.cos(df.hr*(2.*np.pi/24))\n",
    "df['mnth_sin'] = np.sin((df.mnth-1)*(2.*np.pi/12))\n",
    "df['mnth_cos'] = np.cos((df.mnth-1)*(2.*np.pi/12))"
   ]
  },
  {
   "cell_type": "code",
   "execution_count": 4,
   "metadata": {},
   "outputs": [
    {
     "data": {
      "text/plain": [
       "<matplotlib.collections.PathCollection at 0x11fcbe350>"
      ]
     },
     "execution_count": 4,
     "metadata": {},
     "output_type": "execute_result"
    },
    {
     "data": {
      "image/png": "[encoded data removed]",
      "text/plain": [
       "<Figure size 432x288 with 1 Axes>"
      ]
     },
     "metadata": {
      "needs_background": "light"
     },
     "output_type": "display_data"
    }
   ],
   "source": [
    "plt.scatter(df['mnth_sin'],df['hr_sin'])"
   ]
  },
  {
   "cell_type": "markdown",
   "metadata": {},
   "source": [
    "### Construct the pipeline with a standard scaler and a small neural network"
   ]
  },
  {
   "cell_type": "code",
   "execution_count": 5,
   "metadata": {
    "scrolled": true
   },
   "outputs": [],
   "source": [
    "estimators = []\n",
    "estimators.append(('standardize', StandardScaler()))\n",
    "estimators.append(('nn', MLPRegressor(hidden_layer_sizes=(5,), max_iter=1000)))\n",
    "model = Pipeline(estimators)"
   ]
  },
  {
   "cell_type": "code",
   "execution_count": 6,
   "metadata": {},
   "outputs": [],
   "source": [
    "\n",
    "# To begin, let's use only these two features to predict 'cnt' (bicycle count)\n",
    "features = ['mnth','hr']\n",
    "X = df[features].values\n",
    "y = df.cnt"
   ]
  },
  {
   "cell_type": "code",
   "execution_count": 7,
   "metadata": {},
   "outputs": [],
   "source": [
    "\n",
    "# We'll use 5-fold cross validation. That is, a random 80% of the data will be used\n",
    "# to train the model, and the prediction score will be computed on the remaining 20%.\n",
    "# This process is repeated five times such that the training sets in each \"fold\"\n",
    "# are mutually orthogonal.\n",
    "from sklearn.model_selection import KFold\n",
    "from sklearn.model_selection import cross_val_score\n",
    "kfold = KFold(n_splits=5)"
   ]
  },
  {
   "cell_type": "code",
   "execution_count": 8,
   "metadata": {},
   "outputs": [
    {
     "name": "stdout",
     "output_type": "stream",
     "text": [
      "CV Scoring Result: mean= -31387.81749914892 std= 12594.629337873215\n"
     ]
    }
   ],
   "source": [
    "\n",
    "results = cross_val_score(model, X, y, cv=kfold, scoring='neg_mean_squared_error')\n",
    "print('CV Scoring Result: mean=',np.mean(results),'std=',np.std(results))"
   ]
  },
  {
   "cell_type": "code",
   "execution_count": null,
   "metadata": {},
   "outputs": [],
   "source": []
  }
 ],
 "metadata": {
  "kernelspec": {
   "display_name": "Python 3",
   "language": "python",
   "name": "python3"
  },
  "language_info": {
   "codemirror_mode": {
    "name": "ipython",
    "version": 3
   },
   "file_extension": ".py",
   "mimetype": "text/x-python",
   "name": "python",
   "nbconvert_exporter": "python",
   "pygments_lexer": "ipython3",
   "version": "3.7.6"
  }
 },
 "nbformat": 4,
 "nbformat_minor": 4
}
